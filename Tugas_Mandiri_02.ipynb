{
  "nbformat": 4,
  "nbformat_minor": 0,
  "metadata": {
    "colab": {
      "provenance": []
    },
    "kernelspec": {
      "name": "python3",
      "display_name": "Python 3"
    },
    "language_info": {
      "name": "python"
    }
  },
  "cells": [
    {
      "cell_type": "code",
      "execution_count": null,
      "metadata": {
        "id": "mfhNehz-72wf"
      },
      "outputs": [],
      "source": [
        "import pandas as pd"
      ]
    },
    {
      "cell_type": "code",
      "source": [
        "df = pd.read_csv('/content/drive/MyDrive/praktikum_ML/praktikum02/data/day.xls')"
      ],
      "metadata": {
        "id": "0LmhjpqG8C1Q"
      },
      "execution_count": 3,
      "outputs": []
    },
    {
      "cell_type": "code",
      "source": [
        "# (a) Data Training: 80%\n",
        "train = df.sample(frac=0.8, random_state=1)"
      ],
      "metadata": {
        "id": "IeGqfbFl8u22"
      },
      "execution_count": 4,
      "outputs": []
    },
    {
      "cell_type": "code",
      "source": [
        "# (b) Data Validation: 10% dari data training\n",
        "val = train.sample(frac=0.1, random_state=1)"
      ],
      "metadata": {
        "id": "DuZ3fwoa-5JR"
      },
      "execution_count": 5,
      "outputs": []
    },
    {
      "cell_type": "code",
      "source": [
        "# (c) Data Testing: 20% dari total dataset\n",
        "test = df.drop(train.index)"
      ],
      "metadata": {
        "id": "jFJCwluU-9bl"
      },
      "execution_count": 6,
      "outputs": []
    },
    {
      "cell_type": "code",
      "source": [
        "# Tampilkan jumlah data\n",
        "print(\"Jumlah Data Training:\", len(train))\n"
      ],
      "metadata": {
        "colab": {
          "base_uri": "https://localhost:8080/"
        },
        "id": "MryAnyTp_ANw",
        "outputId": "36a822df-86a3-41d6-860c-ec08d333bc4e"
      },
      "execution_count": 8,
      "outputs": [
        {
          "output_type": "stream",
          "name": "stdout",
          "text": [
            "Jumlah Data Training: 585\n"
          ]
        }
      ]
    },
    {
      "cell_type": "code",
      "source": [
        "print(\"Jumlah Data Validation:\", len(val))"
      ],
      "metadata": {
        "colab": {
          "base_uri": "https://localhost:8080/"
        },
        "id": "OomRN7zq_MAf",
        "outputId": "a7112f8b-5915-42c3-ad42-1b28b7efd91e"
      },
      "execution_count": 9,
      "outputs": [
        {
          "output_type": "stream",
          "name": "stdout",
          "text": [
            "Jumlah Data Validation: 58\n"
          ]
        }
      ]
    },
    {
      "cell_type": "code",
      "source": [
        "print(\"Jumlah Data Testing:\", len(test))"
      ],
      "metadata": {
        "colab": {
          "base_uri": "https://localhost:8080/"
        },
        "id": "Qw7LWKcb_U70",
        "outputId": "fd6e484f-2c09-4045-95a6-0d5b73f3a1ce"
      },
      "execution_count": 10,
      "outputs": [
        {
          "output_type": "stream",
          "name": "stdout",
          "text": [
            "Jumlah Data Testing: 146\n"
          ]
        }
      ]
    },
    {
      "cell_type": "code",
      "source": [
        "# Tampilkan 5 baris pertama\n",
        "print(\"\\nTraining Data:\")\n",
        "print(train.head())"
      ],
      "metadata": {
        "colab": {
          "base_uri": "https://localhost:8080/"
        },
        "id": "8ZtCono8_XE6",
        "outputId": "b6b46ae2-bf1c-4cb0-c4e3-4134e2705fba"
      },
      "execution_count": 11,
      "outputs": [
        {
          "output_type": "stream",
          "name": "stdout",
          "text": [
            "\n",
            "Training Data:\n",
            "     instant      dteday  season  yr  mnth  holiday  weekday  workingday  \\\n",
            "404      405  2012-02-09       1   1     2        0        4           1   \n",
            "726      727  2012-12-27       1   1    12        0        4           1   \n",
            "159      160  2011-06-09       2   0     6        0        4           1   \n",
            "422      423  2012-02-27       1   1     2        0        1           1   \n",
            "512      513  2012-05-27       2   1     5        0        0           0   \n",
            "\n",
            "     weathersit      temp     atemp       hum  windspeed  casual  registered  \\\n",
            "404           1  0.265000  0.261988  0.562083   0.194037     163        3667   \n",
            "726           2  0.254167  0.226642  0.652917   0.350133     247        1867   \n",
            "159           2  0.808333  0.757579  0.568333   0.149883     563        3352   \n",
            "422           1  0.366667  0.357954  0.490833   0.268033     253        4069   \n",
            "512           1  0.690000  0.641425  0.697083   0.215171    3283        3308   \n",
            "\n",
            "      cnt  \n",
            "404  3830  \n",
            "726  2114  \n",
            "159  3915  \n",
            "422  4322  \n",
            "512  6591  \n"
          ]
        }
      ]
    },
    {
      "cell_type": "code",
      "source": [
        "print(\"\\nValidation Data:\")\n",
        "print(val.head())"
      ],
      "metadata": {
        "colab": {
          "base_uri": "https://localhost:8080/"
        },
        "id": "p9kL5nZk_j7C",
        "outputId": "65454037-6a05-4825-ec41-837762de91f2"
      },
      "execution_count": 12,
      "outputs": [
        {
          "output_type": "stream",
          "name": "stdout",
          "text": [
            "\n",
            "Validation Data:\n",
            "     instant      dteday  season  yr  mnth  holiday  weekday  workingday  \\\n",
            "404      405  2012-02-09       1   1     2        0        4           1   \n",
            "136      137  2011-05-17       2   0     5        0        2           1   \n",
            "683      684  2012-11-14       4   1    11        0        3           1   \n",
            "414      415  2012-02-19       1   1     2        0        0           0   \n",
            "106      107  2011-04-17       2   0     4        0        0           0   \n",
            "\n",
            "     weathersit      temp     atemp       hum  windspeed  casual  registered  \\\n",
            "404           1  0.265000  0.261988  0.562083   0.194037     163        3667   \n",
            "136           2  0.561667  0.538529  0.837917   0.277354     678        3445   \n",
            "683           1  0.289167  0.281563  0.552083   0.199625     373        5122   \n",
            "414           2  0.280000  0.265788  0.515833   0.253112     618        2071   \n",
            "106           1  0.456667  0.445696  0.479583   0.303496    1558        2186   \n",
            "\n",
            "      cnt  \n",
            "404  3830  \n",
            "136  4123  \n",
            "683  5495  \n",
            "414  2689  \n",
            "106  3744  \n"
          ]
        }
      ]
    },
    {
      "cell_type": "code",
      "source": [
        "print(\"\\nTesting Data:\")\n",
        "print(test.head())"
      ],
      "metadata": {
        "colab": {
          "base_uri": "https://localhost:8080/"
        },
        "id": "g1OwSau4_m4T",
        "outputId": "6fef864b-43d8-4e69-a15d-3f114b8f849b"
      },
      "execution_count": 13,
      "outputs": [
        {
          "output_type": "stream",
          "name": "stdout",
          "text": [
            "\n",
            "Testing Data:\n",
            "    instant      dteday  season  yr  mnth  holiday  weekday  workingday  \\\n",
            "7         8  2011-01-08       1   0     1        0        6           0   \n",
            "10       11  2011-01-11       1   0     1        0        2           1   \n",
            "15       16  2011-01-16       1   0     1        0        0           0   \n",
            "20       21  2011-01-21       1   0     1        0        5           1   \n",
            "22       23  2011-01-23       1   0     1        0        0           0   \n",
            "\n",
            "    weathersit      temp     atemp       hum  windspeed  casual  registered  \\\n",
            "7            2  0.165000  0.162254  0.535833   0.266804      68         891   \n",
            "10           2  0.169091  0.191464  0.686364   0.122132      43        1220   \n",
            "15           1  0.231667  0.234217  0.483750   0.188433     251         953   \n",
            "20           1  0.177500  0.157833  0.457083   0.353242      75        1468   \n",
            "22           1  0.096522  0.098839  0.436522   0.246600     150         836   \n",
            "\n",
            "     cnt  \n",
            "7    959  \n",
            "10  1263  \n",
            "15  1204  \n",
            "20  1543  \n",
            "22   986  \n"
          ]
        }
      ]
    },
    {
      "cell_type": "code",
      "source": [],
      "metadata": {
        "id": "JRrwmsVA_yyd"
      },
      "execution_count": null,
      "outputs": []
    }
  ]
}